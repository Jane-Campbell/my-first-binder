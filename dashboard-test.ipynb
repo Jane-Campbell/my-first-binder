{
 "cells": [
  {
   "cell_type": "markdown",
   "id": "78f221de-c6dd-42c3-b83b-ed61347ea0a3",
   "metadata": {},
   "source": [
    "Jane Campbell 12 May 2024"
   ]
  },
  {
   "cell_type": "markdown",
   "id": "70ada351-ba5a-48c4-af32-b0c3a05200cf",
   "metadata": {},
   "source": [
    "# Example Dashboard"
   ]
  },
  {
   "cell_type": "markdown",
   "id": "d5a6dd4c-67bd-4290-8482-bd788017b702",
   "metadata": {},
   "source": [
    "## This is an example of a Stacked Bar Chart which shows the Number of Penguins compared to the Average Body Mass based on species of Penguin\n"
   ]
  },
  {
   "cell_type": "code",
   "execution_count": null,
   "id": "35fdb689-84ce-407d-90a3-0c5edcccf124",
   "metadata": {},
   "outputs": [],
   "source": [
    "import matplotlib.pyplot as plt\n",
    "import numpy as np\n",
    "\n",
    "# data from https://allisonhorst.github.io/palmerpenguins/\n",
    "\n",
    "species = (\n",
    "    \"Adelie\\n $\\\\mu=$3700.66g\",\n",
    "    \"Chinstrap\\n $\\\\mu=$3733.09g\",\n",
    "    \"Gentoo\\n $\\\\mu=5076.02g$\",\n",
    ")\n",
    "weight_counts = {\n",
    "    \"Below\": np.array([70, 31, 58]),\n",
    "    \"Above\": np.array([82, 37, 66]),\n",
    "}\n",
    "width = 0.5\n",
    "\n",
    "fig, ax = plt.subplots()\n",
    "bottom = np.zeros(3)\n",
    "\n",
    "for boolean, weight_count in weight_counts.items():\n",
    "    p = ax.bar(species, weight_count, width, label=boolean, bottom=bottom)\n",
    "    bottom += weight_count\n",
    "\n",
    "ax.set_title(\"Number of penguins with above average body mass\")\n",
    "ax.legend(loc=\"upper right\")\n",
    "\n",
    "plt.show()"
   ]
  },
  {
   "cell_type": "markdown",
   "id": "8b03d947-f589-4739-9ce0-fb8f8cc93361",
   "metadata": {},
   "source": [
    "## This is an example of a Grouped Bar Chart with Labels.  It shows various Body Measurements of various Penguin species."
   ]
  },
  {
   "cell_type": "code",
   "execution_count": null,
   "id": "e7641de0-1917-476f-b557-98358bbd8883",
   "metadata": {},
   "outputs": [],
   "source": [
    "import matplotlib.pyplot as plt\n",
    "import numpy as np\n",
    "\n",
    "species = (\"Adelie\", \"Chinstrap\", \"Gentoo\")\n",
    "penguin_means = {\n",
    "    'Bill Depth': (18.35, 18.43, 14.98),\n",
    "    'Bill Length': (38.79, 48.83, 47.50),\n",
    "    'Flipper Length': (189.95, 195.82, 217.19),\n",
    "}\n",
    "\n",
    "x = np.arange(len(species))  # the label locations\n",
    "width = 0.25  # the width of the bars\n",
    "multiplier = 0\n",
    "\n",
    "fig, ax = plt.subplots(layout='constrained')\n",
    "\n",
    "for attribute, measurement in penguin_means.items():\n",
    "    offset = width * multiplier\n",
    "    rects = ax.bar(x + offset, measurement, width, label=attribute)\n",
    "    ax.bar_label(rects, padding=3)\n",
    "    multiplier += 1\n",
    "\n",
    "# Add some text for labels, title and custom x-axis tick labels, etc.\n",
    "ax.set_ylabel('Length (mm)')\n",
    "ax.set_title('Penguin attributes by species')\n",
    "ax.set_xticks(x + width, species)\n",
    "ax.legend(loc='upper left', ncols=3)\n",
    "ax.set_ylim(0, 250)\n",
    "\n",
    "plt.show()"
   ]
  },
  {
   "cell_type": "markdown",
   "id": "564639c8-c301-40ee-b059-34808c8c0f81",
   "metadata": {},
   "source": [
    "## This is an example of a Line Graph with a Ticked Path Effect"
   ]
  },
  {
   "cell_type": "code",
   "execution_count": null,
   "id": "b79a2f11-3748-480d-88d9-32e5638923d0",
   "metadata": {},
   "outputs": [],
   "source": [
    "import matplotlib.pyplot as plt\n",
    "import numpy as np\n",
    "\n",
    "from matplotlib import patheffects\n",
    "\n",
    "# Plot a straight diagonal line with ticked style path\n",
    "fig, ax = plt.subplots(figsize=(6, 6))\n",
    "ax.plot([0, 1], [0, 1], label=\"Line\",\n",
    "        path_effects=[patheffects.withTickedStroke(spacing=7, angle=135)])\n",
    "\n",
    "# Plot a curved line with ticked style path\n",
    "nx = 101\n",
    "x = np.linspace(0.0, 1.0, nx)\n",
    "y = 0.3*np.sin(x*8) + 0.4\n",
    "ax.plot(x, y, label=\"Curve\", path_effects=[patheffects.withTickedStroke()])\n",
    "\n",
    "ax.legend()\n",
    "\n",
    "plt.show()"
   ]
  }
 ],
 "metadata": {
  "kernelspec": {
   "display_name": "Python 3 (ipykernel)",
   "language": "python",
   "name": "python3"
  },
  "language_info": {
   "codemirror_mode": {
    "name": "ipython",
    "version": 3
   },
   "file_extension": ".py",
   "mimetype": "text/x-python",
   "name": "python",
   "nbconvert_exporter": "python",
   "pygments_lexer": "ipython3",
   "version": "3.8.18"
  }
 },
 "nbformat": 4,
 "nbformat_minor": 5
}
